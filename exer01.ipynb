{
  "cells": [
    {
      "cell_type": "markdown",
      "metadata": {
        "id": "view-in-github",
        "colab_type": "text"
      },
      "source": [
        "<a href=\"https://colab.research.google.com/github/VitorHugoBass/CD-python-ED_24/blob/main/exer01.ipynb\" target=\"_parent\"><img src=\"https://colab.research.google.com/assets/colab-badge.svg\" alt=\"Open In Colab\"/></a>"
      ]
    },
    {
      "cell_type": "code",
      "source": [
        "#Exercicio1\n",
        "execute = True\n",
        "while(execute):\n",
        "  idade = int(input(\"Digite sua idade: \"))\n",
        "  if(idade<0 or idade>150):\n",
        "    print(\"Idade Invalida\")\n",
        "  else:\n",
        "    if(idade<11):\n",
        "      print(\"Crianca\")\n",
        "    elif(idade<14):\n",
        "      print(\"Pré-Adolecente\")\n",
        "    elif(idade<18):\n",
        "      print(\"Adolecente\")\n",
        "    else:\n",
        "      print(\"Adulto\")\n",
        "    execute = False"
      ],
      "metadata": {
        "colab": {
          "base_uri": "https://localhost:8080/"
        },
        "id": "j0rwhLwb2aTJ",
        "outputId": "92aff35c-a37f-48c8-847a-752b79bb1c68"
      },
      "execution_count": 9,
      "outputs": [
        {
          "output_type": "stream",
          "name": "stdout",
          "text": [
            "Digite sua idade: 169\n",
            "Idade Invalida\n",
            "Digite sua idade: 15\n",
            "Adolecente\n"
          ]
        }
      ]
    }
  ],
  "metadata": {
    "colab": {
      "name": "Olá, este é o Colaboratory",
      "toc_visible": true,
      "provenance": [],
      "include_colab_link": true
    },
    "kernelspec": {
      "display_name": "Python 3",
      "name": "python3"
    }
  },
  "nbformat": 4,
  "nbformat_minor": 0
}